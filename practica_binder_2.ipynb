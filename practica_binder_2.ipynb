{
  "nbformat": 4,
  "nbformat_minor": 0,
  "metadata": {
    "colab": {
      "name": "practica-binder-2.ipynb",
      "provenance": [],
      "collapsed_sections": []
    },
    "kernelspec": {
      "name": "python3",
      "display_name": "Python 3"
    },
    "language_info": {
      "name": "python"
    },
    "widgets": {
      "application/vnd.jupyter.widget-state+json": {
        "36bcf306a838457d87f75334cd9acf13": {
          "model_module": "@jupyter-widgets/controls",
          "model_name": "VBoxModel",
          "model_module_version": "1.5.0",
          "state": {
            "_dom_classes": [],
            "_model_module": "@jupyter-widgets/controls",
            "_model_module_version": "1.5.0",
            "_model_name": "VBoxModel",
            "_view_count": null,
            "_view_module": "@jupyter-widgets/controls",
            "_view_module_version": "1.5.0",
            "_view_name": "VBoxView",
            "box_style": "",
            "children": [
              "IPY_MODEL_4f8b80e7744c41bf87a8f849a98d922e",
              "IPY_MODEL_a07d5fb1ebce4827a16f5605c487b976",
              "IPY_MODEL_a6d1a2a296334e9b87dc2296d6c3f476",
              "IPY_MODEL_e49cc55707a14e049ba90b492c69eb65",
              "IPY_MODEL_387b570f62924768af85c32a3acc5389"
            ],
            "layout": "IPY_MODEL_77fd5d0c9ad04cac88ca541ac0af76da"
          }
        },
        "4f8b80e7744c41bf87a8f849a98d922e": {
          "model_module": "@jupyter-widgets/controls",
          "model_name": "LabelModel",
          "model_module_version": "1.5.0",
          "state": {
            "_dom_classes": [],
            "_model_module": "@jupyter-widgets/controls",
            "_model_module_version": "1.5.0",
            "_model_name": "LabelModel",
            "_view_count": null,
            "_view_module": "@jupyter-widgets/controls",
            "_view_module_version": "1.5.0",
            "_view_name": "LabelView",
            "description": "",
            "description_tooltip": null,
            "layout": "IPY_MODEL_0fe4e020d63f4e3eaf6a9b2564898a53",
            "placeholder": "​",
            "style": "IPY_MODEL_a136e5b50d6e4f52b33fd2df66a6bf1d",
            "value": "Seleccione la fruta a clasificar"
          }
        },
        "a07d5fb1ebce4827a16f5605c487b976": {
          "model_module": "@jupyter-widgets/controls",
          "model_name": "FileUploadModel",
          "model_module_version": "1.5.0",
          "state": {
            "_counter": 3,
            "_dom_classes": [],
            "_model_module": "@jupyter-widgets/controls",
            "_model_module_version": "1.5.0",
            "_model_name": "FileUploadModel",
            "_view_count": null,
            "_view_module": "@jupyter-widgets/controls",
            "_view_module_version": "1.5.0",
            "_view_name": "FileUploadView",
            "accept": "",
            "button_style": "",
            "data": [
              null
            ],
            "description": "Subir imagen",
            "description_tooltip": null,
            "disabled": false,
            "error": "",
            "icon": "upload",
            "layout": "IPY_MODEL_48a626dcdf0d45c799656d953812c481",
            "metadata": [
              {
                "name": "26.jpg",
                "type": "image/jpeg",
                "size": 34204,
                "lastModified": 1648399025572
              }
            ],
            "multiple": false,
            "style": "IPY_MODEL_2266b7f7de2a4d61928a5a7c2b3e81aa"
          }
        },
        "a6d1a2a296334e9b87dc2296d6c3f476": {
          "model_module": "@jupyter-widgets/controls",
          "model_name": "ButtonModel",
          "model_module_version": "1.5.0",
          "state": {
            "_dom_classes": [],
            "_model_module": "@jupyter-widgets/controls",
            "_model_module_version": "1.5.0",
            "_model_name": "ButtonModel",
            "_view_count": null,
            "_view_module": "@jupyter-widgets/controls",
            "_view_module_version": "1.5.0",
            "_view_name": "ButtonView",
            "button_style": "",
            "description": "Clasificar",
            "disabled": false,
            "icon": "",
            "layout": "IPY_MODEL_349f43b72c1c4155b68995cd2226b97f",
            "style": "IPY_MODEL_9b0173885c6c46989e85d1b0799df4d7",
            "tooltip": ""
          }
        },
        "e49cc55707a14e049ba90b492c69eb65": {
          "model_module": "@jupyter-widgets/output",
          "model_name": "OutputModel",
          "model_module_version": "1.0.0",
          "state": {
            "_dom_classes": [],
            "_model_module": "@jupyter-widgets/output",
            "_model_module_version": "1.0.0",
            "_model_name": "OutputModel",
            "_view_count": null,
            "_view_module": "@jupyter-widgets/output",
            "_view_module_version": "1.0.0",
            "_view_name": "OutputView",
            "layout": "IPY_MODEL_f26e1bfeb4754146bc4745b01ae31ad5",
            "msg_id": "",
            "outputs": [
              {
                "output_type": "display_data",
                "data": {
                  "text/plain": "<PIL.Image.Image image mode=RGB size=128x85 at 0x7F05CC6FD290>",
                  "image/png": "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\n"
                },
                "metadata": {}
              }
            ]
          }
        },
        "387b570f62924768af85c32a3acc5389": {
          "model_module": "@jupyter-widgets/controls",
          "model_name": "LabelModel",
          "model_module_version": "1.5.0",
          "state": {
            "_dom_classes": [],
            "_model_module": "@jupyter-widgets/controls",
            "_model_module_version": "1.5.0",
            "_model_name": "LabelModel",
            "_view_count": null,
            "_view_module": "@jupyter-widgets/controls",
            "_view_module_version": "1.5.0",
            "_view_name": "LabelView",
            "description": "",
            "description_tooltip": null,
            "layout": "IPY_MODEL_5325da804b554d10853a859185bf97f9",
            "placeholder": "​",
            "style": "IPY_MODEL_f50d4ca9d27b48a687f2b594c844aae0",
            "value": "Predicción: pera; probabilidad: 1.0000"
          }
        },
        "77fd5d0c9ad04cac88ca541ac0af76da": {
          "model_module": "@jupyter-widgets/base",
          "model_name": "LayoutModel",
          "model_module_version": "1.2.0",
          "state": {
            "_model_module": "@jupyter-widgets/base",
            "_model_module_version": "1.2.0",
            "_model_name": "LayoutModel",
            "_view_count": null,
            "_view_module": "@jupyter-widgets/base",
            "_view_module_version": "1.2.0",
            "_view_name": "LayoutView",
            "align_content": null,
            "align_items": null,
            "align_self": null,
            "border": null,
            "bottom": null,
            "display": null,
            "flex": null,
            "flex_flow": null,
            "grid_area": null,
            "grid_auto_columns": null,
            "grid_auto_flow": null,
            "grid_auto_rows": null,
            "grid_column": null,
            "grid_gap": null,
            "grid_row": null,
            "grid_template_areas": null,
            "grid_template_columns": null,
            "grid_template_rows": null,
            "height": null,
            "justify_content": null,
            "justify_items": null,
            "left": null,
            "margin": null,
            "max_height": null,
            "max_width": null,
            "min_height": null,
            "min_width": null,
            "object_fit": null,
            "object_position": null,
            "order": null,
            "overflow": null,
            "overflow_x": null,
            "overflow_y": null,
            "padding": null,
            "right": null,
            "top": null,
            "visibility": null,
            "width": null
          }
        },
        "0fe4e020d63f4e3eaf6a9b2564898a53": {
          "model_module": "@jupyter-widgets/base",
          "model_name": "LayoutModel",
          "model_module_version": "1.2.0",
          "state": {
            "_model_module": "@jupyter-widgets/base",
            "_model_module_version": "1.2.0",
            "_model_name": "LayoutModel",
            "_view_count": null,
            "_view_module": "@jupyter-widgets/base",
            "_view_module_version": "1.2.0",
            "_view_name": "LayoutView",
            "align_content": null,
            "align_items": null,
            "align_self": null,
            "border": null,
            "bottom": null,
            "display": null,
            "flex": null,
            "flex_flow": null,
            "grid_area": null,
            "grid_auto_columns": null,
            "grid_auto_flow": null,
            "grid_auto_rows": null,
            "grid_column": null,
            "grid_gap": null,
            "grid_row": null,
            "grid_template_areas": null,
            "grid_template_columns": null,
            "grid_template_rows": null,
            "height": null,
            "justify_content": null,
            "justify_items": null,
            "left": null,
            "margin": null,
            "max_height": null,
            "max_width": null,
            "min_height": null,
            "min_width": null,
            "object_fit": null,
            "object_position": null,
            "order": null,
            "overflow": null,
            "overflow_x": null,
            "overflow_y": null,
            "padding": null,
            "right": null,
            "top": null,
            "visibility": null,
            "width": null
          }
        },
        "a136e5b50d6e4f52b33fd2df66a6bf1d": {
          "model_module": "@jupyter-widgets/controls",
          "model_name": "DescriptionStyleModel",
          "model_module_version": "1.5.0",
          "state": {
            "_model_module": "@jupyter-widgets/controls",
            "_model_module_version": "1.5.0",
            "_model_name": "DescriptionStyleModel",
            "_view_count": null,
            "_view_module": "@jupyter-widgets/base",
            "_view_module_version": "1.2.0",
            "_view_name": "StyleView",
            "description_width": ""
          }
        },
        "48a626dcdf0d45c799656d953812c481": {
          "model_module": "@jupyter-widgets/base",
          "model_name": "LayoutModel",
          "model_module_version": "1.2.0",
          "state": {
            "_model_module": "@jupyter-widgets/base",
            "_model_module_version": "1.2.0",
            "_model_name": "LayoutModel",
            "_view_count": null,
            "_view_module": "@jupyter-widgets/base",
            "_view_module_version": "1.2.0",
            "_view_name": "LayoutView",
            "align_content": null,
            "align_items": null,
            "align_self": null,
            "border": null,
            "bottom": null,
            "display": null,
            "flex": null,
            "flex_flow": null,
            "grid_area": null,
            "grid_auto_columns": null,
            "grid_auto_flow": null,
            "grid_auto_rows": null,
            "grid_column": null,
            "grid_gap": null,
            "grid_row": null,
            "grid_template_areas": null,
            "grid_template_columns": null,
            "grid_template_rows": null,
            "height": null,
            "justify_content": null,
            "justify_items": null,
            "left": null,
            "margin": null,
            "max_height": null,
            "max_width": null,
            "min_height": null,
            "min_width": null,
            "object_fit": null,
            "object_position": null,
            "order": null,
            "overflow": null,
            "overflow_x": null,
            "overflow_y": null,
            "padding": null,
            "right": null,
            "top": null,
            "visibility": null,
            "width": null
          }
        },
        "2266b7f7de2a4d61928a5a7c2b3e81aa": {
          "model_module": "@jupyter-widgets/controls",
          "model_name": "ButtonStyleModel",
          "model_module_version": "1.5.0",
          "state": {
            "_model_module": "@jupyter-widgets/controls",
            "_model_module_version": "1.5.0",
            "_model_name": "ButtonStyleModel",
            "_view_count": null,
            "_view_module": "@jupyter-widgets/base",
            "_view_module_version": "1.2.0",
            "_view_name": "StyleView",
            "button_color": null,
            "font_weight": ""
          }
        },
        "349f43b72c1c4155b68995cd2226b97f": {
          "model_module": "@jupyter-widgets/base",
          "model_name": "LayoutModel",
          "model_module_version": "1.2.0",
          "state": {
            "_model_module": "@jupyter-widgets/base",
            "_model_module_version": "1.2.0",
            "_model_name": "LayoutModel",
            "_view_count": null,
            "_view_module": "@jupyter-widgets/base",
            "_view_module_version": "1.2.0",
            "_view_name": "LayoutView",
            "align_content": null,
            "align_items": null,
            "align_self": null,
            "border": null,
            "bottom": null,
            "display": null,
            "flex": null,
            "flex_flow": null,
            "grid_area": null,
            "grid_auto_columns": null,
            "grid_auto_flow": null,
            "grid_auto_rows": null,
            "grid_column": null,
            "grid_gap": null,
            "grid_row": null,
            "grid_template_areas": null,
            "grid_template_columns": null,
            "grid_template_rows": null,
            "height": null,
            "justify_content": null,
            "justify_items": null,
            "left": null,
            "margin": null,
            "max_height": null,
            "max_width": null,
            "min_height": null,
            "min_width": null,
            "object_fit": null,
            "object_position": null,
            "order": null,
            "overflow": null,
            "overflow_x": null,
            "overflow_y": null,
            "padding": null,
            "right": null,
            "top": null,
            "visibility": null,
            "width": null
          }
        },
        "9b0173885c6c46989e85d1b0799df4d7": {
          "model_module": "@jupyter-widgets/controls",
          "model_name": "ButtonStyleModel",
          "model_module_version": "1.5.0",
          "state": {
            "_model_module": "@jupyter-widgets/controls",
            "_model_module_version": "1.5.0",
            "_model_name": "ButtonStyleModel",
            "_view_count": null,
            "_view_module": "@jupyter-widgets/base",
            "_view_module_version": "1.2.0",
            "_view_name": "StyleView",
            "button_color": null,
            "font_weight": ""
          }
        },
        "5325da804b554d10853a859185bf97f9": {
          "model_module": "@jupyter-widgets/base",
          "model_name": "LayoutModel",
          "model_module_version": "1.2.0",
          "state": {
            "_model_module": "@jupyter-widgets/base",
            "_model_module_version": "1.2.0",
            "_model_name": "LayoutModel",
            "_view_count": null,
            "_view_module": "@jupyter-widgets/base",
            "_view_module_version": "1.2.0",
            "_view_name": "LayoutView",
            "align_content": null,
            "align_items": null,
            "align_self": null,
            "border": null,
            "bottom": null,
            "display": null,
            "flex": null,
            "flex_flow": null,
            "grid_area": null,
            "grid_auto_columns": null,
            "grid_auto_flow": null,
            "grid_auto_rows": null,
            "grid_column": null,
            "grid_gap": null,
            "grid_row": null,
            "grid_template_areas": null,
            "grid_template_columns": null,
            "grid_template_rows": null,
            "height": null,
            "justify_content": null,
            "justify_items": null,
            "left": null,
            "margin": null,
            "max_height": null,
            "max_width": null,
            "min_height": null,
            "min_width": null,
            "object_fit": null,
            "object_position": null,
            "order": null,
            "overflow": null,
            "overflow_x": null,
            "overflow_y": null,
            "padding": null,
            "right": null,
            "top": null,
            "visibility": null,
            "width": null
          }
        },
        "f50d4ca9d27b48a687f2b594c844aae0": {
          "model_module": "@jupyter-widgets/controls",
          "model_name": "DescriptionStyleModel",
          "model_module_version": "1.5.0",
          "state": {
            "_model_module": "@jupyter-widgets/controls",
            "_model_module_version": "1.5.0",
            "_model_name": "DescriptionStyleModel",
            "_view_count": null,
            "_view_module": "@jupyter-widgets/base",
            "_view_module_version": "1.2.0",
            "_view_name": "StyleView",
            "description_width": ""
          }
        },
        "f26e1bfeb4754146bc4745b01ae31ad5": {
          "model_module": "@jupyter-widgets/base",
          "model_name": "LayoutModel",
          "model_module_version": "1.2.0",
          "state": {
            "_model_module": "@jupyter-widgets/base",
            "_model_module_version": "1.2.0",
            "_model_name": "LayoutModel",
            "_view_count": null,
            "_view_module": "@jupyter-widgets/base",
            "_view_module_version": "1.2.0",
            "_view_name": "LayoutView",
            "align_content": null,
            "align_items": null,
            "align_self": null,
            "border": null,
            "bottom": null,
            "display": null,
            "flex": null,
            "flex_flow": null,
            "grid_area": null,
            "grid_auto_columns": null,
            "grid_auto_flow": null,
            "grid_auto_rows": null,
            "grid_column": null,
            "grid_gap": null,
            "grid_row": null,
            "grid_template_areas": null,
            "grid_template_columns": null,
            "grid_template_rows": null,
            "height": null,
            "justify_content": null,
            "justify_items": null,
            "left": null,
            "margin": null,
            "max_height": null,
            "max_width": null,
            "min_height": null,
            "min_width": null,
            "object_fit": null,
            "object_position": null,
            "order": null,
            "overflow": null,
            "overflow_x": null,
            "overflow_y": null,
            "padding": null,
            "right": null,
            "top": null,
            "visibility": null,
            "width": null
          }
        }
      }
    }
  },
  "cells": [
    {
      "cell_type": "markdown",
      "source": [
        "# Clasificador de frutas\n",
        "\n",
        "Este cuaderno, realizado con motivos académicos, utiliza un modelo entrenado con ***transfer learning*** para clasificar imágenes de frutas; en concreto, clasifica imágenes de **peras**, **manzanas** o **mandarinas**."
      ],
      "metadata": {
        "id": "K7VLE4NhMlB2"
      }
    },
    {
      "cell_type": "markdown",
      "source": [
        "## Preparación del entorno\n",
        "\n",
        "Empezamos importando las dependencias necesarias:"
      ],
      "metadata": {
        "id": "6B_V0tt6NHhW"
      }
    },
    {
      "cell_type": "code",
      "source": [
        "!pip install -Uqq fastbook\n",
        "\n",
        "from fastai.vision.widgets import * # Importación general del las bibliotecas de visión de fastai\n",
        "from pathlib import Path\n",
        "\n",
        "import fastbook\n",
        "fastbook.setup_book()\n",
        "from fastbook import *"
      ],
      "metadata": {
        "colab": {
          "base_uri": "https://localhost:8080/"
        },
        "id": "1pOGziRLMGYQ",
        "outputId": "ca92d029-6cf1-4429-e313-10f841dc4211"
      },
      "execution_count": 1,
      "outputs": [
        {
          "output_type": "stream",
          "name": "stdout",
          "text": [
            "\u001b[K     |████████████████████████████████| 720 kB 5.0 MB/s \n",
            "\u001b[K     |████████████████████████████████| 187 kB 47.8 MB/s \n",
            "\u001b[K     |████████████████████████████████| 49 kB 5.1 MB/s \n",
            "\u001b[K     |████████████████████████████████| 1.2 MB 50.0 MB/s \n",
            "\u001b[K     |████████████████████████████████| 56 kB 4.3 MB/s \n",
            "\u001b[K     |████████████████████████████████| 51 kB 291 kB/s \n",
            "\u001b[K     |████████████████████████████████| 561 kB 65.6 MB/s \n",
            "\u001b[K     |████████████████████████████████| 130 kB 59.4 MB/s \n",
            "\u001b[?25hMounted at /content/gdrive\n"
          ]
        }
      ]
    },
    {
      "cell_type": "markdown",
      "source": [
        "Y cargamos nuestro modelo exportado desde un notebook previo, donde hemos realizado todo el proceso de estudio de los datos y entrenamiento del modelo:"
      ],
      "metadata": {
        "id": "uxmLmSphNLiv"
      }
    },
    {
      "cell_type": "code",
      "execution_count": 2,
      "metadata": {
        "colab": {
          "base_uri": "https://localhost:8080/"
        },
        "id": "fyt7U3PvLxGh",
        "outputId": "16edce96-dfcb-4ef6-8424-8de2d74647a7"
      },
      "outputs": [
        {
          "output_type": "execute_result",
          "data": {
            "text/plain": [
              "(#1) [Path('export.pkl')]"
            ]
          },
          "metadata": {},
          "execution_count": 2
        }
      ],
      "source": [
        "path = Path()\n",
        "path.ls(file_exts='.pkl')"
      ]
    },
    {
      "cell_type": "code",
      "source": [
        "learn_inf = load_learner(path/'export.pkl')"
      ],
      "metadata": {
        "id": "YaZUDh-ZMJa0"
      },
      "execution_count": 3,
      "outputs": []
    },
    {
      "cell_type": "markdown",
      "source": [
        "## Frontend\n",
        "\n",
        "A continuación, preparamos una UI simple para poder subir imágenes y realizar nuestras propias *predicciones*.\n",
        "\n",
        "Empezamos definiendo una función oyente para un botón al que llamaremos \"Clasificar\":"
      ],
      "metadata": {
        "id": "1Qb39HcXNYzt"
      }
    },
    {
      "cell_type": "code",
      "source": [
        "# Función oyente\n",
        "def on_click_classify(change):\n",
        "    img = PILImage.create(btn_upload.data[-1])\n",
        "    out_pl.clear_output()\n",
        "    with out_pl: display(img.to_thumb(128,128))\n",
        "    pred,pred_idx,probs = learn_inf.predict(img)\n",
        "    lbl_pred.value = f'Predicción: {pred}; probabilidad: {probs[pred_idx]:.04f}'\n",
        "\n",
        "# Creación del botón\n",
        "btn_run = widgets.Button(description='Clasificar')\n",
        "btn_run.on_click(on_click_classify)"
      ],
      "metadata": {
        "id": "csyEHU-KN7Up"
      },
      "execution_count": 7,
      "outputs": []
    },
    {
      "cell_type": "markdown",
      "source": [
        "Seguidamente, declaramos el resto de elementos de nuestra interfaz y usamos la clase VBox para ejecutarlo todo:"
      ],
      "metadata": {
        "id": "_5lR1TtGOCu3"
      }
    },
    {
      "cell_type": "code",
      "source": [
        "btn_upload = widgets.FileUpload(description='Subir imagen') # Botón de subida\n",
        "out_pl = widgets.Output() # Contenedor para mostrar la imagen subida\n",
        "lbl_pred = widgets.Label() # Caja de texto donde mostrar el resultado de la predicción"
      ],
      "metadata": {
        "id": "rnhYrS6yMNVw"
      },
      "execution_count": 8,
      "outputs": []
    },
    {
      "cell_type": "code",
      "source": [
        "VBox([widgets.Label('Seleccione la fruta a clasificar'), \n",
        "      btn_upload, btn_run, out_pl, lbl_pred])"
      ],
      "metadata": {
        "colab": {
          "base_uri": "https://localhost:8080/",
          "height": 230,
          "referenced_widgets": [
            "36bcf306a838457d87f75334cd9acf13",
            "4f8b80e7744c41bf87a8f849a98d922e",
            "a07d5fb1ebce4827a16f5605c487b976",
            "a6d1a2a296334e9b87dc2296d6c3f476",
            "e49cc55707a14e049ba90b492c69eb65",
            "387b570f62924768af85c32a3acc5389",
            "77fd5d0c9ad04cac88ca541ac0af76da",
            "0fe4e020d63f4e3eaf6a9b2564898a53",
            "a136e5b50d6e4f52b33fd2df66a6bf1d",
            "48a626dcdf0d45c799656d953812c481",
            "2266b7f7de2a4d61928a5a7c2b3e81aa",
            "349f43b72c1c4155b68995cd2226b97f",
            "9b0173885c6c46989e85d1b0799df4d7",
            "5325da804b554d10853a859185bf97f9",
            "f50d4ca9d27b48a687f2b594c844aae0",
            "f26e1bfeb4754146bc4745b01ae31ad5"
          ]
        },
        "id": "AH0y91IfMV9Z",
        "outputId": "e7c19265-57c5-4d37-c2de-9714ea562c42"
      },
      "execution_count": 9,
      "outputs": [
        {
          "output_type": "display_data",
          "data": {
            "text/plain": [
              "VBox(children=(Label(value='Seleccione la fruta a clasificar'), FileUpload(value={}, description='Subir imagen…"
            ],
            "application/vnd.jupyter.widget-view+json": {
              "version_major": 2,
              "version_minor": 0,
              "model_id": "36bcf306a838457d87f75334cd9acf13"
            }
          },
          "metadata": {}
        },
        {
          "output_type": "display_data",
          "data": {
            "text/plain": [
              "<IPython.core.display.HTML object>"
            ],
            "text/html": [
              "\n",
              "<style>\n",
              "    /* Turns off some styling */\n",
              "    progress {\n",
              "        /* gets rid of default border in Firefox and Opera. */\n",
              "        border: none;\n",
              "        /* Needs to be in here for Safari polyfill so background images work as expected. */\n",
              "        background-size: auto;\n",
              "    }\n",
              "    .progress-bar-interrupted, .progress-bar-interrupted::-webkit-progress-bar {\n",
              "        background: #F44336;\n",
              "    }\n",
              "</style>\n"
            ]
          },
          "metadata": {}
        },
        {
          "output_type": "display_data",
          "data": {
            "text/plain": [
              "<IPython.core.display.HTML object>"
            ],
            "text/html": [
              ""
            ]
          },
          "metadata": {}
        },
        {
          "output_type": "display_data",
          "data": {
            "text/plain": [
              "<IPython.core.display.HTML object>"
            ],
            "text/html": [
              "\n",
              "<style>\n",
              "    /* Turns off some styling */\n",
              "    progress {\n",
              "        /* gets rid of default border in Firefox and Opera. */\n",
              "        border: none;\n",
              "        /* Needs to be in here for Safari polyfill so background images work as expected. */\n",
              "        background-size: auto;\n",
              "    }\n",
              "    .progress-bar-interrupted, .progress-bar-interrupted::-webkit-progress-bar {\n",
              "        background: #F44336;\n",
              "    }\n",
              "</style>\n"
            ]
          },
          "metadata": {}
        },
        {
          "output_type": "display_data",
          "data": {
            "text/plain": [
              "<IPython.core.display.HTML object>"
            ],
            "text/html": [
              ""
            ]
          },
          "metadata": {}
        },
        {
          "output_type": "display_data",
          "data": {
            "text/plain": [
              "<IPython.core.display.HTML object>"
            ],
            "text/html": [
              "\n",
              "<style>\n",
              "    /* Turns off some styling */\n",
              "    progress {\n",
              "        /* gets rid of default border in Firefox and Opera. */\n",
              "        border: none;\n",
              "        /* Needs to be in here for Safari polyfill so background images work as expected. */\n",
              "        background-size: auto;\n",
              "    }\n",
              "    .progress-bar-interrupted, .progress-bar-interrupted::-webkit-progress-bar {\n",
              "        background: #F44336;\n",
              "    }\n",
              "</style>\n"
            ]
          },
          "metadata": {}
        },
        {
          "output_type": "display_data",
          "data": {
            "text/plain": [
              "<IPython.core.display.HTML object>"
            ],
            "text/html": [
              ""
            ]
          },
          "metadata": {}
        }
      ]
    },
    {
      "cell_type": "code",
      "source": [
        ""
      ],
      "metadata": {
        "id": "le1DJ6A4PIA8"
      },
      "execution_count": null,
      "outputs": []
    }
  ]
}